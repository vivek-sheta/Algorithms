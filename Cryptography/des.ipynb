{
 "cells": [
  {
   "cell_type": "code",
   "execution_count": 11,
   "metadata": {},
   "outputs": [],
   "source": [
    "from textwrap import wrap #for divide the string into fix size group I use this to divide binary string into 6 bit group for S-box"
   ]
  },
  {
   "cell_type": "code",
   "execution_count": 12,
   "metadata": {},
   "outputs": [],
   "source": [
    "plainText = \"12468aceeca86420\" #Given Plaintext\n",
    "key = \"1f1571c947d9e859\" #Given Key"
   ]
  },
  {
   "cell_type": "code",
   "execution_count": 13,
   "metadata": {},
   "outputs": [],
   "source": [
    "\n",
    "# Table PC1 shuffle and convert the 64 bit key into 56 bit\n",
    "PC1 = [56, 48, 40, 32, 24, 16, 8,\n",
    "       0, 57, 49, 41, 33, 25, 17,\n",
    "       9, 1, 58, 50, 42, 34, 26,\n",
    "       18, 10, 2, 59, 51, 43, 35,\n",
    "       62, 54, 46, 38, 30, 22, 14,\n",
    "       6, 61, 53, 45, 37, 29, 21,\n",
    "       13, 5, 60, 52, 44, 36, 28,\n",
    "       20, 12, 4, 27, 19, 11, 3]\n",
    "\n",
    "# Table PC2  shuffle and convert the 56 bit key into 48 bit\n",
    "PC2 = [13, 16, 10, 23, 0, 4,\n",
    "       2, 27, 14, 5, 20, 9,\n",
    "       22, 18, 11, 3, 25, 7,\n",
    "       15, 6, 26, 19, 12, 1,\n",
    "       40, 51, 30, 36, 46, 54,\n",
    "       29, 39, 50, 44, 32, 47,\n",
    "       43, 48, 38, 55, 33, 52,\n",
    "       45, 41, 49, 35, 28, 31]\n",
    " \n",
    "#Initial Permutation for plaintext binary to shuffle the bits\n",
    "IP = [57, 49, 41, 33, 25, 17, 9, 1,\n",
    "      59, 51, 43, 35, 27, 19, 11, 3,\n",
    "      61, 53, 45, 37, 29, 21, 13, 5,\n",
    "      63, 55, 47, 39, 31, 23, 15, 7,\n",
    "      56, 48, 40, 32, 24, 16, 8, 0,\n",
    "      58, 50, 42, 34, 26, 18, 10, 2,\n",
    "      60, 52, 44, 36, 28, 20, 12, 4,\n",
    "      62, 54, 46, 38, 30, 22, 14, 6]\n",
    "\n",
    "#Expansion Table for expan 32bit into 48bit\n",
    "ETable = [31, 0, 1, 2, 3, 4,\n",
    "          3, 4, 5, 6, 7, 8,\n",
    "          7, 8, 9, 10, 11, 12,\n",
    "          11, 12, 13, 14, 15, 16,\n",
    "          15, 16, 17, 18, 19, 20,\n",
    "          19, 20, 21, 22, 23, 24,\n",
    "          23, 24, 25, 26, 27, 28,\n",
    "          27, 28, 29, 30, 31, 0]\n",
    "\n",
    "#Substitution Boxes\n",
    "sBoxes =[ [\n",
    "            [14, 4, 13, 1, 2, 15, 11, 8, 3, 10, 6, 12, 5, 9, 0, 7],\n",
    "            [0, 15, 7, 4, 14, 2, 13, 1, 10, 6, 12, 11, 9, 5, 3, 8],\n",
    "            [4, 1, 14, 8, 13, 6, 2, 11, 15, 12, 9, 7, 3, 10, 5, 0],\n",
    "            [15, 12, 8, 2, 4, 9, 1, 7, 5, 11, 3, 14, 10, 0, 6, 13]\n",
    "          ],\n",
    "\n",
    "          [\n",
    "            [15, 1, 8, 14, 6, 11, 3, 4, 9, 7, 2, 13, 12, 0, 5, 10],\n",
    "            [ 3, 13, 4, 7, 15, 2, 8, 14, 12, 0, 1, 10, 6, 9, 11, 5],\n",
    "            [0, 14, 7, 11, 10, 4, 13, 1, 5, 8, 12, 6, 9, 3, 2, 15],\n",
    "            [13, 8, 10, 1, 3, 15, 4, 2, 11, 6, 7, 12, 0, 5, 14, 9],\n",
    "          ],\n",
    "\n",
    "          [\n",
    "            [10, 0, 9, 14, 6, 3, 15, 5, 1, 13, 12, 7, 11, 4, 2, 8],\n",
    "             [13, 7, 0, 9, 3, 4, 6, 10, 2, 8, 5, 14, 12, 11, 15, 1],\n",
    "             [13, 6, 4, 9, 8, 15, 3, 0, 11, 1, 2, 12, 5, 10, 14, 7],\n",
    "             [1, 10, 13, 0, 6, 9, 8, 7, 4, 15, 14, 3, 11, 5, 2, 12],\n",
    "          ],\n",
    "\n",
    "         [\n",
    "             [7, 13, 14, 3, 0, 6, 9, 10, 1, 2, 8, 5, 11, 12, 4, 15],\n",
    "              [13, 8, 11, 5, 6, 15, 0, 3, 4, 7, 2, 12, 1, 10, 14, 9],\n",
    "              [10, 6, 9, 0, 12, 11, 7, 13, 15, 1, 3, 14, 5, 2, 8, 4],\n",
    "              [3, 15, 0, 6, 10, 1, 13, 8, 9, 4, 5, 11, 12, 7, 2, 14],\n",
    "         ],\n",
    "\n",
    "        [\n",
    "            [2, 12, 4, 1, 7, 10, 11, 6, 8, 5, 3, 15, 13, 0, 14, 9],\n",
    "             [14, 11, 2, 12, 4, 7, 13, 1, 5, 0, 15, 10, 3, 9, 8, 6],\n",
    "             [4, 2, 1, 11, 10, 13, 7, 8, 15, 9, 12, 5, 6, 3, 0, 14],\n",
    "             [11, 8, 12, 7, 1, 14, 2, 13, 6, 15, 0, 9, 10, 4, 5, 3]\n",
    "\n",
    "        ],\n",
    "\n",
    "        [\n",
    "            [12, 1, 10, 15, 9, 2, 6, 8, 0, 13, 3, 4, 14, 7, 5, 11],\n",
    "             [10, 15, 4, 2, 7, 12, 9, 5, 6, 1, 13, 14, 0, 11, 3, 8],\n",
    "             [9, 14, 15, 5, 2, 8, 12, 3, 7, 0, 4, 10, 1, 13, 11, 6],\n",
    "             [4, 3, 2, 12, 9, 5, 15, 10, 11, 14, 1, 7, 6, 0, 8, 13]\n",
    "        ],\n",
    "\n",
    "        [\n",
    "            [4, 11, 2, 14, 15, 0, 8, 13, 3, 12, 9, 7, 5, 10, 6, 1],\n",
    "             [13, 0, 11, 7, 4, 9, 1, 10, 14, 3, 5, 12, 2, 15, 8, 6],\n",
    "             [1, 4, 11, 13, 12, 3, 7, 14, 10, 15, 6, 8, 0, 5, 9, 2],\n",
    "             [6, 11, 13, 8, 1, 4, 10, 7, 9, 5, 0, 15, 14, 2, 3, 12]\n",
    "        ],\n",
    "\n",
    "        [\n",
    "            [13, 2, 8, 4, 6, 15, 11, 1, 10, 9, 3, 14, 5, 0, 12, 7],\n",
    "             [1, 15, 13, 8, 10, 3, 7, 4, 12, 5, 6, 11, 0, 14, 9, 2],\n",
    "             [7, 11, 4, 1, 9, 12, 14, 2, 0, 6, 10, 13, 15, 3, 5, 8],\n",
    "             [2, 1, 14, 7, 4, 10, 8, 13, 15, 12, 9, 0, 3, 5, 6, 11]\n",
    "\n",
    "        ]\n",
    "\n",
    "        ],\n",
    "\n",
    "#Permutation box Suffle the 32 bit and give 32bit output in Function\n",
    "PB = [15,  6,  19,  20,\n",
    "    28, 11,  27,  16,\n",
    "    0, 14,  22,  25,\n",
    "    4, 17,  30,   9,\n",
    "    1,  7,  23,  13,\n",
    "    31, 26,   2,   8,\n",
    "    18, 12,  29,   5,\n",
    "    21, 10,   3,  24]\n"
   ]
  },
  {
   "cell_type": "code",
   "execution_count": 14,
   "metadata": {},
   "outputs": [],
   "source": [
    "#This Function map the value of each 6bit group and find the value of that\n",
    "def sbox(val,S):\n",
    "    print(\"Value: \"+val)\n",
    "    print(\"Middele 4 bit: \"+val[1:-1]) #show middle 4 value\n",
    "    print(\"First & last bit: \"+val[0]+val[-1]) # show fist and last value\n",
    "    col = int(val[1:-1], 2) #convert into int for get data from s box and return the binary\n",
    "    row = int(val[0] + val[-1], 2)\n",
    "    print(\"Value Got from Sbox: \"+str(sBoxes[0][S][row][col])+\"  :  \"+ (\"{0:04b}\".format(sBoxes[0][S][row][col]))+ \"\\n\") #get the each time different continoues s box and get the value\n",
    "    return (\"{0:04b}\".format(sBoxes[0][S][row][col]))\n"
   ]
  },
  {
   "cell_type": "code",
   "execution_count": 15,
   "metadata": {},
   "outputs": [
    {
     "name": "stdout",
     "output_type": "stream",
     "text": [
      "\n",
      "\n",
      "? ? ? QUESTION 1: Derive K1, the first-round subkey\n",
      "Binary oF key: 1f1571c947d9e859 = 0001111100010101011100011100100101000111110110011110100001011001\n",
      "\n",
      "After PC1 and Drop bits final 56-bit out : 01101000111111000100010010100001000100010011111010010111\n",
      "\n",
      "C0: 0110100011111100010001001010\n",
      "D0 : 0001000100010011111010010111\n",
      "\n",
      "Left Circuler Shift of 1bit on left half C0 : 1101000111111000100010010100\n",
      "Left Circuler Shift of 1bit on right half D0: 0010001000100111110100101110\n",
      "Apply PC2 to convert 56bit key into 48bit key\n",
      "\n",
      "------------------------ANSWER 1 - Round 1 Subkey : :  K1  : : ------------------------\n",
      "K1: 011110000011001111000011001001001101101001110000\n",
      "\n",
      "\n",
      "\n"
     ]
    }
   ],
   "source": [
    "\n",
    "#QUE1\n",
    "# Key Generation K1 Ans of Que: 1\n",
    "keyBinary_64 = ''.join(['{0:04b}'.format(int(d, 16)) for d in key])  # Convert the key into Binary number\n",
    "print(\"\\n\\n? ? ? QUESTION 1: Derive K1, the first-round subkey\\nBinary oF key: \" + key + \" = \" + keyBinary_64)\n",
    "\n",
    "key_56 = \"\"\n",
    "K1_key_48 = \"\"\n",
    "\n",
    "for e in PC1:\n",
    "    key_56 += keyBinary_64[e]\n",
    "\n",
    "print(\"\\nAfter PC1 and Drop bits final 56-bit out : \" + key_56)\n",
    "\n",
    "KL0, KR0 = key_56[:len(key_56) // 2], key_56[len(key_56) // 2:]\n",
    "print(\"\\nC0: \" + KL0)\n",
    "print(\"D0 : \" + KR0)\n",
    "\n",
    "# Left Circuler shift on both half\n",
    "rotate_KL0 = KL0[1:] + KL0[0]\n",
    "rotate_KR0 = KR0[1:] + KR0[0]\n",
    "\n",
    "print(\"\\nLeft Circuler Shift of 1bit on left half C0 : \" + rotate_KL0)  # Left shift of left half\n",
    "print(\"Left Circuler Shift of 1bit on right half D0: \" + rotate_KR0)  # Left shift of right half\n",
    "\n",
    "key_56 = rotate_KL0 + rotate_KR0\n",
    "# print(\"After Combining KL0 KR0: \"+key_56)\n",
    "\n",
    "print(\"Apply PC2 to convert 56bit key into 48bit key\")\n",
    "for e in PC2:\n",
    "    #print(\"Bit PC2: \"+str(e)+\" = k1 \"+key_56[e])\n",
    "    K1_key_48 += key_56[e]\n",
    "\n",
    "print(\n",
    "    \"\\n------------------------ANSWER 1 - Round 1 Subkey : :  K1  : : ------------------------\\nK1: \" + K1_key_48 + \"\\n\\n\\n\")\n"
   ]
  },
  {
   "cell_type": "code",
   "execution_count": 16,
   "metadata": {},
   "outputs": [
    {
     "name": "stdout",
     "output_type": "stream",
     "text": [
      "\n",
      "? ? ?QUESTION 2: Derive L0 , R0\n",
      "\n",
      "Binary of Plain Text : 12468aceeca86420 = 0001001001000110100010101100111011101100101010000110010000100000\n",
      "After Applying the IP plainText : 0101101000000001010110100000000000111100111100000011110000001111\n",
      "Divide binary into 2 half\n",
      "\n",
      "------------------------ANSWER 2 - find L0 and R0  : ------------------------\n",
      "32-Bit L0: 01011010000000010101101000000000\n",
      "32-Bit R0: 00111100111100000011110000001111\n",
      "\n",
      "\n",
      "\n"
     ]
    }
   ],
   "source": [
    "\n",
    "#QUE2\n",
    "# Now move to Plaintext data Apply the IP (Initial Permutation) on binary of plainText\n",
    "print(\"\\n? ? ?QUESTION 2: Derive L0 , R0\\n\")\n",
    "plainText_bin = ''.join(['{0:04b}'.format(int(d, 16)) for d in plainText])  # Convert the key into Binary number\n",
    "plainText_64 = \"\"\n",
    "print(\"Binary of Plain Text : \" + plainText + \" = \" + plainText_bin)\n",
    "\n",
    "for e in IP:\n",
    "    plainText_64 += plainText_bin[e]\n",
    "\n",
    "print(\"After Applying the IP plainText : \" + plainText_64)\n",
    "L0, R0 = plainText_64[:len(plainText_64) // 2], plainText_64[len(plainText_64) // 2:]\n",
    "print(\"Divide binary into 2 half\")\n",
    "print(\"\\n------------------------ANSWER 2 - find L0 and R0  : ------------------------\")\n",
    "print(\"32-Bit L0: \" + L0)\n",
    "print(\"32-Bit R0: \" + R0+\"\\n\\n\\n\")"
   ]
  },
  {
   "cell_type": "code",
   "execution_count": 17,
   "metadata": {},
   "outputs": [
    {
     "name": "stdout",
     "output_type": "stream",
     "text": [
      "\n",
      "? ? ? QUESTION 3: Expand R0 to get E[R0]. \n",
      "\n",
      "------------------------ANSWER 3 - Expand 32bit R0 to 48bit  : ------------------------\n",
      "After expanstion table right half =  100111111001011110100000000111111000000001011110\n",
      "\n",
      "\n",
      "\n"
     ]
    }
   ],
   "source": [
    "#QUE3\n",
    "# Now expland 32 bit into 48 bit : Expantion tabel\n",
    "print(\"\\n? ? ? QUESTION 3: Expand R0 to get E[R0]. \")\n",
    "expand_48 = \"\"\n",
    "for e in ETable:\n",
    "    expand_48 += R0[e]\n",
    "print(\"\\n------------------------ANSWER 3 - Expand 32bit R0 to 48bit  : ------------------------\")\n",
    "print(\"After expanstion table right half =  \" + expand_48+\"\\n\\n\\n\")"
   ]
  },
  {
   "cell_type": "code",
   "execution_count": 18,
   "metadata": {},
   "outputs": [
    {
     "name": "stdout",
     "output_type": "stream",
     "text": [
      "\n",
      "\n",
      "? ? ?QUESTION 4: Calculate A = E[R0] ⊕ K1. \n",
      "E[RO] = 100111111001011110100000000111111000000001011110   XOR   K1 =011110000011001111000011001001001101101001110000\n",
      "\n",
      "------------------------ANSWER 4 - E[R0] XOR K1  : ------------------------\n",
      "XOR of 48-bit Key to Right expanded half : 111001111010010001100011001110110101101000101110\n",
      "\n",
      "\n",
      "\n"
     ]
    }
   ],
   "source": [
    "#QUE4\n",
    "# Now XOR the right half with the 48bit key and\n",
    "print(\"\\n\\n? ? ?QUESTION 4: Calculate A = E[R0] ⊕ K1. \\nE[RO] = \"+ expand_48+\"   XOR   K1 =\"+K1_key_48)\n",
    "xor_48 = bin(int(expand_48, 2) ^ int(K1_key_48, 2))[2:]\n",
    "print(\"\\n------------------------ANSWER 4 - E[R0] XOR K1  : ------------------------\")\n",
    "print(\"XOR of 48-bit Key to Right expanded half : \" + xor_48+\"\\n\\n\\n\")"
   ]
  },
  {
   "cell_type": "code",
   "execution_count": 20,
   "metadata": {},
   "outputs": [
    {
     "name": "stdout",
     "output_type": "stream",
     "text": [
      "\n",
      "? ? ?QUESTION 5: \n",
      "Group the 48-bit result of (d) into sets of 6 bits and evaluate the corresponding S-box substitutions. \n",
      "\n",
      "------------------------ANSWER 5 - S-Box value for each 6-bit group  : ------------------------\n",
      "Value: 111001\n",
      "Middele 4 bit: 1100\n",
      "First & last bit: 11\n",
      "Value Got from Sbox: 10  :  1010\n",
      "\n",
      "Value: 111010\n",
      "Middele 4 bit: 1101\n",
      "First & last bit: 10\n",
      "Value Got from Sbox: 3  :  0011\n",
      "\n",
      "Value: 010001\n",
      "Middele 4 bit: 1000\n",
      "First & last bit: 01\n",
      "Value Got from Sbox: 2  :  0010\n",
      "\n",
      "Value: 100011\n",
      "Middele 4 bit: 0001\n",
      "First & last bit: 11\n",
      "Value Got from Sbox: 15  :  1111\n",
      "\n",
      "Value: 001110\n",
      "Middele 4 bit: 0111\n",
      "First & last bit: 00\n",
      "Value Got from Sbox: 6  :  0110\n",
      "\n",
      "Value: 110101\n",
      "Middele 4 bit: 1010\n",
      "First & last bit: 11\n",
      "Value Got from Sbox: 1  :  0001\n",
      "\n",
      "Value: 101000\n",
      "Middele 4 bit: 0100\n",
      "First & last bit: 10\n",
      "Value Got from Sbox: 12  :  1100\n",
      "\n",
      "Value: 101110\n",
      "Middele 4 bit: 0111\n",
      "First & last bit: 10\n",
      "Value Got from Sbox: 2  :  0010\n",
      "\n",
      "\n",
      "\n",
      "\n",
      "\n"
     ]
    }
   ],
   "source": [
    "#QUE5\n",
    "#Apply the S-Box and get the 32 bit form the 48 bit input\n",
    "print(\"\\n? ? ?QUESTION 5: \\nGroup the 48-bit result of (d) into sets of 6 bits and evaluate the corresponding S-box substitutions. \")\n",
    "print(\"\\n------------------------ANSWER 5 - S-Box value for each 6-bit group  : ------------------------\")\n",
    "sbox_32 = \"\"\n",
    "divide = wrap(xor_48, 6)\n",
    "count = 0\n",
    "for e in divide:\n",
    "    sbox_32 += sbox(e,count)\n",
    "    count+=1\n",
    "print(\"\\n\\n\\n\")"
   ]
  },
  {
   "cell_type": "code",
   "execution_count": 22,
   "metadata": {},
   "outputs": [
    {
     "name": "stdout",
     "output_type": "stream",
     "text": [
      "\n",
      "? ? ?QUESTION 6: Concatenate the results of (e) to get a 32-bit result, B.\n",
      "\n",
      "------------------------ANSWER 6 -Concatenate the result ------------------------\n",
      "S(K1 ⊕ E(R0)) : 10100011001011110110000111000010\n",
      "\n",
      "\n",
      "\n"
     ]
    }
   ],
   "source": [
    "#QUE6\n",
    "print(\"\\n? ? ?QUESTION 6: Concatenate the results of (e) to get a 32-bit result, B.\")\n",
    "print(\"\\n------------------------ANSWER 6 -Concatenate the result ------------------------\")\n",
    "print(\"S(K1 ⊕ E(R0)) : \"+sbox_32+\"\\n\\n\\n\")\n"
   ]
  },
  {
   "cell_type": "code",
   "execution_count": 62,
   "metadata": {},
   "outputs": [
    {
     "name": "stdout",
     "output_type": "stream",
     "text": [
      "\n",
      "? ? ?QUESTION 7: Apply the permutation to get P(B).\n",
      "\n",
      "------------------------ANSWER 7 - After apllying Permutation to shuffle the bits and get 32bit shuffled bits  : ------------------------\n",
      "11000000110101100111001011000101\n",
      "\n",
      "\n",
      "\n"
     ]
    }
   ],
   "source": [
    "#QUE7\n",
    "print(\"\\n? ? ?QUESTION 7: Apply the permutation to get P(B).\")\n",
    "pb_32 = \"\"\n",
    "for e in PB:\n",
    "    pb_32 += sbox_32[e]\n",
    "print(\"\\n------------------------ANSWER 7 - After apllying Permutation to shuffle the bits and get 32bit shuffled bits  : ------------------------\")\n",
    "print(pb_32+\"\\n\\n\\n\")\n"
   ]
  },
  {
   "cell_type": "code",
   "execution_count": 67,
   "metadata": {},
   "outputs": [
    {
     "name": "stdout",
     "output_type": "stream",
     "text": [
      "\n",
      "QUESTION 8: Calculate R1 = P(B) ⊕ L0.\n",
      "P(B) = 11000000110101100111001011000101   XOR   L0 = 01011010000000010101101000000000\n",
      "\n",
      "------------------------ANSWER 8 - Get R1 ------------------------\n",
      "R1: 10011010110101110010100011000101\n",
      "L1: 00111100111100000011110000001111\n",
      "\n",
      "\n",
      "\n"
     ]
    }
   ],
   "source": [
    "#QUE8\n",
    "print(\"\\nQUESTION 8: Calculate R1 = P(B) ⊕ L0.\\nP(B) = \"+ pb_32+\"   XOR   L0 = \"+L0)\n",
    "R1 = bin(int(pb_32,2) ^ int(L0,2))[2:]\n",
    "print(\"\\n------------------------ANSWER 8 - Get R1 ------------------------\")\n",
    "L1 = R0\n",
    "print(\"R1: \"+ R1+ \"\\n\\n\\n\")\n",
    "print(\"L1: \"+L1)"
   ]
  },
  {
   "cell_type": "code",
   "execution_count": 68,
   "metadata": {},
   "outputs": [
    {
     "name": "stdout",
     "output_type": "stream",
     "text": [
      "\n",
      "? ? ?QUESTION 9: Write down the ciphertext.\n",
      "After first round R0 became L1 and L0 became R1 for next round\n",
      "\n",
      "------------------------ANSWER 9 - Ciphertext ------------------------\n",
      "Binary: 0011110011110000001111000000111110011010110101110010100011000101\n",
      "Hexadecimal: 3cf03c0f9ad728c5\n"
     ]
    }
   ],
   "source": [
    "#After first rounf R0 became L1 and L0 became R1 for next round\n",
    "print(\"\\n? ? ?QUESTION 9: Write down the ciphertext.\")\n",
    "print(\"After first round R0 became L1 and L0 became R1 for next round\")\n",
    "CipherText = L1 + R1\n",
    "print(\"R1: \"+ R1)\n",
    "print(\"L1: \"+L1)\n",
    "print(\"\\n------------------------ANSWER 9 - Ciphertext ------------------------\")\n",
    "print(\"Binary: \"+CipherText+\"\\nHexadecimal: \"+ (hex(int(CipherText,2))[2:]))"
   ]
  }
 ],
 "metadata": {
  "kernelspec": {
   "display_name": "Python 3",
   "language": "python",
   "name": "python3"
  },
  "language_info": {
   "codemirror_mode": {
    "name": "ipython",
    "version": 3
   },
   "file_extension": ".py",
   "mimetype": "text/x-python",
   "name": "python",
   "nbconvert_exporter": "python",
   "pygments_lexer": "ipython3",
   "version": "3.6.8"
  }
 },
 "nbformat": 4,
 "nbformat_minor": 2
}
